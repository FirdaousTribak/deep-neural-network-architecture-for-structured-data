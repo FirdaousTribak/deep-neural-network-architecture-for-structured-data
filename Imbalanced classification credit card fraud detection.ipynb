{
 "cells": [
  {
   "cell_type": "code",
   "execution_count": 1,
   "id": "7bf77943-f979-4526-9b9e-546948076ff8",
   "metadata": {},
   "outputs": [],
   "source": [
    "import csv\n",
    "import numpy as np"
   ]
  },
  {
   "cell_type": "code",
   "execution_count": 2,
   "id": "226d5057-4746-4a76-9089-9dd191f37f6d",
   "metadata": {},
   "outputs": [
    {
     "name": "stdout",
     "output_type": "stream",
     "text": [
      "HEADER: \"Time\",\"V1\",\"V2\",\"V3\",\"V4\",\"V5\",\"V6\",\"V7\",\"V8\",\"V9\",\"V10\",\"V11\",\"V12\",\"V13\",\"V14\",\"V15\",\"V16\",\"V17\",\"V18\",\"V19\",\"V20\",\"V21\",\"V22\",\"V23\",\"V24\",\"V25\",\"V26\",\"V27\",\"V28\",\"Amount\",\"Class\"\n",
      "EXAMPLE FEATURES: [0.0, -1.3598071336738, -0.0727811733098497, 2.53634673796914, 1.37815522427443, -0.338320769942518, 0.462387777762292, 0.239598554061257, 0.0986979012610507, 0.363786969611213, 0.0907941719789316, -0.551599533260813, -0.617800855762348, -0.991389847235408, -0.311169353699879, 1.46817697209427, -0.470400525259478, 0.207971241929242, 0.0257905801985591, 0.403992960255733, 0.251412098239705, -0.018306777944153, 0.277837575558899, -0.110473910188767, 0.0669280749146731, 0.128539358273528, -0.189114843888824, 0.133558376740387, -0.0210530534538215, 149.62]\n",
      "features.shape: (284807, 30)\n",
      "targets.shape: (284807, 1)\n"
     ]
    }
   ],
   "source": [
    "# Get the real data from https://www.kaggle.com/mlg-ulb/creditcardfraud/\n",
    "#in my case the file is in C:\\creditcard.csv\n",
    "fname = \"C:\\FirdaousAfilalTribak\\creditcard.csv\"\n",
    "\n",
    "all_features = []\n",
    "all_targets = []\n",
    "with open(fname) as f:\n",
    "    for i, line in enumerate(f):\n",
    "        if i == 0:\n",
    "            print(\"HEADER:\", line.strip())\n",
    "            continue  # Skip header\n",
    "        fields = line.strip().split(\",\")\n",
    "        all_features.append([float(v.replace('\"', \"\")) for v in fields[:-1]])\n",
    "        all_targets.append([int(fields[-1].replace('\"', \"\"))])\n",
    "        if i == 1:\n",
    "            print(\"EXAMPLE FEATURES:\", all_features[-1])\n",
    "\n",
    "features = np.array(all_features, dtype=\"float32\")\n",
    "targets = np.array(all_targets, dtype=\"uint8\")\n",
    "print(\"features.shape:\", features.shape)\n",
    "print(\"targets.shape:\", targets.shape)"
   ]
  },
  {
   "cell_type": "markdown",
   "id": "4ad287e4-9328-4b8e-903c-abb5983d96df",
   "metadata": {},
   "source": [
    "# Prepare a validation set\n"
   ]
  },
  {
   "cell_type": "code",
   "execution_count": 3,
   "id": "f50dfcbf-c428-4072-bf23-5d7f6fab9035",
   "metadata": {},
   "outputs": [
    {
     "name": "stdout",
     "output_type": "stream",
     "text": [
      "Number of training samples: 227846\n",
      "Number of validation samples: 56961\n"
     ]
    }
   ],
   "source": [
    "num_val_samples = int(len(features) * 0.2)\n",
    "train_features = features[:-num_val_samples]\n",
    "train_targets = targets[:-num_val_samples]\n",
    "val_features = features[-num_val_samples:]\n",
    "val_targets = targets[-num_val_samples:]\n",
    "\n",
    "print(\"Number of training samples:\", len(train_features))\n",
    "print(\"Number of validation samples:\", len(val_features))"
   ]
  },
  {
   "cell_type": "markdown",
   "id": "aad90cf1-bcc0-4707-944f-4eee8e96ee0f",
   "metadata": {},
   "source": [
    "# Analyze class imbalance in the targets\n"
   ]
  },
  {
   "cell_type": "code",
   "execution_count": 4,
   "id": "c930b497-45e7-43a7-85b0-4fe8069bd057",
   "metadata": {},
   "outputs": [
    {
     "name": "stdout",
     "output_type": "stream",
     "text": [
      "Number of positive samples in training data: 417 (0.18% of total)\n"
     ]
    }
   ],
   "source": [
    "counts = np.bincount(train_targets[:, 0])\n",
    "print(\n",
    "    \"Number of positive samples in training data: {} ({:.2f}% of total)\".format(\n",
    "        counts[1], 100 * float(counts[1]) / len(train_targets)\n",
    "    )\n",
    ")\n",
    "\n",
    "weight_for_0 = 1.0 / counts[0]\n",
    "weight_for_1 = 1.0 / counts[1]"
   ]
  },
  {
   "cell_type": "markdown",
   "id": "161bd400-3951-4750-92b3-28ac0fcee1bc",
   "metadata": {},
   "source": [
    "# Normalize the data using training set statistics\n"
   ]
  },
  {
   "cell_type": "code",
   "execution_count": 5,
   "id": "e7f2e7c2-4e7a-422c-b59d-f89a07d2bea3",
   "metadata": {},
   "outputs": [],
   "source": [
    "mean = np.mean(train_features, axis=0)\n",
    "train_features -= mean\n",
    "val_features -= mean\n",
    "std = np.std(train_features, axis=0)\n",
    "train_features /= std\n",
    "val_features /= std"
   ]
  },
  {
   "cell_type": "markdown",
   "id": "10335b2d-adc0-4466-9d06-b6fa7477e7fa",
   "metadata": {},
   "source": [
    "# Build a binary classification model\n"
   ]
  },
  {
   "cell_type": "code",
   "execution_count": 6,
   "id": "6c680700-b63b-403c-ad11-16c26924fe00",
   "metadata": {},
   "outputs": [
    {
     "name": "stdout",
     "output_type": "stream",
     "text": [
      "Model: \"sequential\"\n",
      "_________________________________________________________________\n",
      " Layer (type)                Output Shape              Param #   \n",
      "=================================================================\n",
      " dense (Dense)               (None, 256)               7936      \n",
      "                                                                 \n",
      " dense_1 (Dense)             (None, 256)               65792     \n",
      "                                                                 \n",
      " dropout (Dropout)           (None, 256)               0         \n",
      "                                                                 \n",
      " dense_2 (Dense)             (None, 256)               65792     \n",
      "                                                                 \n",
      " dropout_1 (Dropout)         (None, 256)               0         \n",
      "                                                                 \n",
      " dense_3 (Dense)             (None, 1)                 257       \n",
      "                                                                 \n",
      "=================================================================\n",
      "Total params: 139,777\n",
      "Trainable params: 139,777\n",
      "Non-trainable params: 0\n",
      "_________________________________________________________________\n"
     ]
    }
   ],
   "source": [
    "from tensorflow import keras\n",
    "\n",
    "model = keras.Sequential(\n",
    "    [\n",
    "        keras.layers.Dense(\n",
    "            256, activation=\"relu\", input_shape=(train_features.shape[-1],)\n",
    "        ),\n",
    "        keras.layers.Dense(256, activation=\"relu\"),\n",
    "        keras.layers.Dropout(0.3),\n",
    "        keras.layers.Dense(256, activation=\"relu\"),\n",
    "        keras.layers.Dropout(0.3),\n",
    "        keras.layers.Dense(1, activation=\"sigmoid\"),\n",
    "    ]\n",
    ")\n",
    "model.summary()"
   ]
  },
  {
   "cell_type": "markdown",
   "id": "96e9a6ba-4b67-4c8c-93c8-ac230ffa9003",
   "metadata": {},
   "source": [
    "# Train the model with class_weight argument\n"
   ]
  },
  {
   "cell_type": "code",
   "execution_count": 7,
   "id": "d4a3a9c0-6edd-4c80-8dba-a116db6c34c1",
   "metadata": {},
   "outputs": [
    {
     "name": "stdout",
     "output_type": "stream",
     "text": [
      "Epoch 1/30\n",
      "112/112 - 6s - loss: 2.3575e-06 - fn: 41.0000 - fp: 27322.0000 - tn: 200107.0000 - tp: 376.0000 - precision: 0.0136 - recall: 0.9017 - val_loss: 0.0425 - val_fn: 15.0000 - val_fp: 350.0000 - val_tn: 56536.0000 - val_tp: 60.0000 - val_precision: 0.1463 - val_recall: 0.8000 - 6s/epoch - 56ms/step\n",
      "Epoch 2/30\n",
      "112/112 - 5s - loss: 1.5111e-06 - fn: 36.0000 - fp: 6269.0000 - tn: 221160.0000 - tp: 381.0000 - precision: 0.0573 - recall: 0.9137 - val_loss: 0.1715 - val_fn: 5.0000 - val_fp: 3120.0000 - val_tn: 53766.0000 - val_tp: 70.0000 - val_precision: 0.0219 - val_recall: 0.9333 - 5s/epoch - 46ms/step\n",
      "Epoch 3/30\n",
      "112/112 - 6s - loss: 1.1067e-06 - fn: 29.0000 - fp: 6860.0000 - tn: 220569.0000 - tp: 388.0000 - precision: 0.0535 - recall: 0.9305 - val_loss: 0.0815 - val_fn: 9.0000 - val_fp: 633.0000 - val_tn: 56253.0000 - val_tp: 66.0000 - val_precision: 0.0944 - val_recall: 0.8800 - 6s/epoch - 54ms/step\n",
      "Epoch 4/30\n",
      "112/112 - 6s - loss: 9.8385e-07 - fn: 22.0000 - fp: 6206.0000 - tn: 221223.0000 - tp: 395.0000 - precision: 0.0598 - recall: 0.9472 - val_loss: 0.0462 - val_fn: 9.0000 - val_fp: 584.0000 - val_tn: 56302.0000 - val_tp: 66.0000 - val_precision: 0.1015 - val_recall: 0.8800 - 6s/epoch - 51ms/step\n",
      "Epoch 5/30\n",
      "112/112 - 5s - loss: 1.2552e-06 - fn: 26.0000 - fp: 9165.0000 - tn: 218264.0000 - tp: 391.0000 - precision: 0.0409 - recall: 0.9376 - val_loss: 0.0644 - val_fn: 8.0000 - val_fp: 639.0000 - val_tn: 56247.0000 - val_tp: 67.0000 - val_precision: 0.0949 - val_recall: 0.8933 - 5s/epoch - 45ms/step\n",
      "Epoch 6/30\n",
      "112/112 - 6s - loss: 1.0492e-06 - fn: 25.0000 - fp: 7155.0000 - tn: 220274.0000 - tp: 392.0000 - precision: 0.0519 - recall: 0.9400 - val_loss: 0.0536 - val_fn: 9.0000 - val_fp: 702.0000 - val_tn: 56184.0000 - val_tp: 66.0000 - val_precision: 0.0859 - val_recall: 0.8800 - 6s/epoch - 54ms/step\n",
      "Epoch 7/30\n",
      "112/112 - 5s - loss: 7.8851e-07 - fn: 17.0000 - fp: 6463.0000 - tn: 220966.0000 - tp: 400.0000 - precision: 0.0583 - recall: 0.9592 - val_loss: 0.1002 - val_fn: 7.0000 - val_fp: 2026.0000 - val_tn: 54860.0000 - val_tp: 68.0000 - val_precision: 0.0325 - val_recall: 0.9067 - 5s/epoch - 49ms/step\n",
      "Epoch 8/30\n",
      "112/112 - 5s - loss: 7.2791e-07 - fn: 18.0000 - fp: 7171.0000 - tn: 220258.0000 - tp: 399.0000 - precision: 0.0527 - recall: 0.9568 - val_loss: 0.0744 - val_fn: 7.0000 - val_fp: 1392.0000 - val_tn: 55494.0000 - val_tp: 68.0000 - val_precision: 0.0466 - val_recall: 0.9067 - 5s/epoch - 48ms/step\n",
      "Epoch 9/30\n",
      "112/112 - 6s - loss: 5.8061e-07 - fn: 13.0000 - fp: 5790.0000 - tn: 221639.0000 - tp: 404.0000 - precision: 0.0652 - recall: 0.9688 - val_loss: 0.1529 - val_fn: 5.0000 - val_fp: 4546.0000 - val_tn: 52340.0000 - val_tp: 70.0000 - val_precision: 0.0152 - val_recall: 0.9333 - 6s/epoch - 50ms/step\n",
      "Epoch 10/30\n",
      "112/112 - 4s - loss: 5.5405e-07 - fn: 9.0000 - fp: 6777.0000 - tn: 220652.0000 - tp: 408.0000 - precision: 0.0568 - recall: 0.9784 - val_loss: 0.0467 - val_fn: 9.0000 - val_fp: 1060.0000 - val_tn: 55826.0000 - val_tp: 66.0000 - val_precision: 0.0586 - val_recall: 0.8800 - 4s/epoch - 40ms/step\n",
      "Epoch 11/30\n",
      "112/112 - 4s - loss: 5.1445e-07 - fn: 11.0000 - fp: 5812.0000 - tn: 221617.0000 - tp: 406.0000 - precision: 0.0653 - recall: 0.9736 - val_loss: 0.1409 - val_fn: 7.0000 - val_fp: 2393.0000 - val_tn: 54493.0000 - val_tp: 68.0000 - val_precision: 0.0276 - val_recall: 0.9067 - 4s/epoch - 37ms/step\n",
      "Epoch 12/30\n",
      "112/112 - 5s - loss: 6.8187e-07 - fn: 8.0000 - fp: 9286.0000 - tn: 218143.0000 - tp: 409.0000 - precision: 0.0422 - recall: 0.9808 - val_loss: 0.0388 - val_fn: 7.0000 - val_fp: 833.0000 - val_tn: 56053.0000 - val_tp: 68.0000 - val_precision: 0.0755 - val_recall: 0.9067 - 5s/epoch - 42ms/step\n",
      "Epoch 13/30\n",
      "112/112 - 5s - loss: 8.3815e-07 - fn: 21.0000 - fp: 8977.0000 - tn: 218452.0000 - tp: 396.0000 - precision: 0.0422 - recall: 0.9496 - val_loss: 0.0305 - val_fn: 10.0000 - val_fp: 399.0000 - val_tn: 56487.0000 - val_tp: 65.0000 - val_precision: 0.1401 - val_recall: 0.8667 - 5s/epoch - 47ms/step\n",
      "Epoch 14/30\n",
      "112/112 - 5s - loss: 6.8656e-07 - fn: 11.0000 - fp: 6937.0000 - tn: 220492.0000 - tp: 406.0000 - precision: 0.0553 - recall: 0.9736 - val_loss: 0.0509 - val_fn: 11.0000 - val_fp: 1373.0000 - val_tn: 55513.0000 - val_tp: 64.0000 - val_precision: 0.0445 - val_recall: 0.8533 - 5s/epoch - 45ms/step\n",
      "Epoch 15/30\n",
      "112/112 - 5s - loss: 6.0637e-07 - fn: 12.0000 - fp: 7347.0000 - tn: 220082.0000 - tp: 405.0000 - precision: 0.0522 - recall: 0.9712 - val_loss: 0.0815 - val_fn: 7.0000 - val_fp: 2715.0000 - val_tn: 54171.0000 - val_tp: 68.0000 - val_precision: 0.0244 - val_recall: 0.9067 - 5s/epoch - 41ms/step\n",
      "Epoch 16/30\n",
      "112/112 - 6s - loss: 5.1962e-07 - fn: 7.0000 - fp: 7201.0000 - tn: 220228.0000 - tp: 410.0000 - precision: 0.0539 - recall: 0.9832 - val_loss: 0.0302 - val_fn: 9.0000 - val_fp: 752.0000 - val_tn: 56134.0000 - val_tp: 66.0000 - val_precision: 0.0807 - val_recall: 0.8800 - 6s/epoch - 50ms/step\n",
      "Epoch 17/30\n",
      "112/112 - 5s - loss: 3.6569e-07 - fn: 5.0000 - fp: 4527.0000 - tn: 222902.0000 - tp: 412.0000 - precision: 0.0834 - recall: 0.9880 - val_loss: 0.0451 - val_fn: 9.0000 - val_fp: 1214.0000 - val_tn: 55672.0000 - val_tp: 66.0000 - val_precision: 0.0516 - val_recall: 0.8800 - 5s/epoch - 44ms/step\n",
      "Epoch 18/30\n",
      "112/112 - 5s - loss: 3.4166e-07 - fn: 3.0000 - fp: 4897.0000 - tn: 222532.0000 - tp: 414.0000 - precision: 0.0780 - recall: 0.9928 - val_loss: 0.0385 - val_fn: 9.0000 - val_fp: 775.0000 - val_tn: 56111.0000 - val_tp: 66.0000 - val_precision: 0.0785 - val_recall: 0.8800 - 5s/epoch - 42ms/step\n",
      "Epoch 19/30\n",
      "112/112 - 5s - loss: 4.6912e-07 - fn: 7.0000 - fp: 5912.0000 - tn: 221517.0000 - tp: 410.0000 - precision: 0.0649 - recall: 0.9832 - val_loss: 0.0421 - val_fn: 9.0000 - val_fp: 1008.0000 - val_tn: 55878.0000 - val_tp: 66.0000 - val_precision: 0.0615 - val_recall: 0.8800 - 5s/epoch - 45ms/step\n",
      "Epoch 20/30\n",
      "112/112 - 5s - loss: 4.0780e-07 - fn: 5.0000 - fp: 5603.0000 - tn: 221826.0000 - tp: 412.0000 - precision: 0.0685 - recall: 0.9880 - val_loss: 0.0440 - val_fn: 9.0000 - val_fp: 855.0000 - val_tn: 56031.0000 - val_tp: 66.0000 - val_precision: 0.0717 - val_recall: 0.8800 - 5s/epoch - 40ms/step\n",
      "Epoch 21/30\n",
      "112/112 - 5s - loss: 1.6136e-06 - fn: 14.0000 - fp: 7835.0000 - tn: 219594.0000 - tp: 403.0000 - precision: 0.0489 - recall: 0.9664 - val_loss: 1.6022 - val_fn: 6.0000 - val_fp: 13395.0000 - val_tn: 43491.0000 - val_tp: 69.0000 - val_precision: 0.0051 - val_recall: 0.9200 - 5s/epoch - 44ms/step\n",
      "Epoch 22/30\n",
      "112/112 - 5s - loss: 1.0590e-06 - fn: 24.0000 - fp: 7396.0000 - tn: 220033.0000 - tp: 393.0000 - precision: 0.0505 - recall: 0.9424 - val_loss: 0.0501 - val_fn: 9.0000 - val_fp: 873.0000 - val_tn: 56013.0000 - val_tp: 66.0000 - val_precision: 0.0703 - val_recall: 0.8800 - 5s/epoch - 47ms/step\n",
      "Epoch 23/30\n",
      "112/112 - 5s - loss: 5.0073e-07 - fn: 5.0000 - fp: 4726.0000 - tn: 222703.0000 - tp: 412.0000 - precision: 0.0802 - recall: 0.9880 - val_loss: 0.0297 - val_fn: 11.0000 - val_fp: 449.0000 - val_tn: 56437.0000 - val_tp: 64.0000 - val_precision: 0.1248 - val_recall: 0.8533 - 5s/epoch - 46ms/step\n",
      "Epoch 24/30\n",
      "112/112 - 5s - loss: 7.4707e-06 - fn: 11.0000 - fp: 6033.0000 - tn: 221396.0000 - tp: 406.0000 - precision: 0.0631 - recall: 0.9736 - val_loss: 0.0440 - val_fn: 10.0000 - val_fp: 693.0000 - val_tn: 56193.0000 - val_tp: 65.0000 - val_precision: 0.0858 - val_recall: 0.8667 - 5s/epoch - 43ms/step\n",
      "Epoch 25/30\n",
      "112/112 - 5s - loss: 8.7541e-07 - fn: 17.0000 - fp: 6829.0000 - tn: 220600.0000 - tp: 400.0000 - precision: 0.0553 - recall: 0.9592 - val_loss: 0.0388 - val_fn: 8.0000 - val_fp: 764.0000 - val_tn: 56122.0000 - val_tp: 67.0000 - val_precision: 0.0806 - val_recall: 0.8933 - 5s/epoch - 43ms/step\n",
      "Epoch 26/30\n",
      "112/112 - 4s - loss: 4.5114e-07 - fn: 8.0000 - fp: 3636.0000 - tn: 223793.0000 - tp: 409.0000 - precision: 0.1011 - recall: 0.9808 - val_loss: 0.0363 - val_fn: 8.0000 - val_fp: 845.0000 - val_tn: 56041.0000 - val_tp: 67.0000 - val_precision: 0.0735 - val_recall: 0.8933 - 4s/epoch - 39ms/step\n",
      "Epoch 27/30\n",
      "112/112 - 5s - loss: 2.9148e-07 - fn: 2.0000 - fp: 3230.0000 - tn: 224199.0000 - tp: 415.0000 - precision: 0.1139 - recall: 0.9952 - val_loss: 0.0177 - val_fn: 9.0000 - val_fp: 261.0000 - val_tn: 56625.0000 - val_tp: 66.0000 - val_precision: 0.2018 - val_recall: 0.8800 - 5s/epoch - 44ms/step\n",
      "Epoch 28/30\n",
      "112/112 - 5s - loss: 8.6834e-07 - fn: 2.0000 - fp: 3839.0000 - tn: 223590.0000 - tp: 415.0000 - precision: 0.0976 - recall: 0.9952 - val_loss: 0.0286 - val_fn: 9.0000 - val_fp: 326.0000 - val_tn: 56560.0000 - val_tp: 66.0000 - val_precision: 0.1684 - val_recall: 0.8800 - 5s/epoch - 48ms/step\n",
      "Epoch 29/30\n",
      "112/112 - 5s - loss: 3.3870e-07 - fn: 3.0000 - fp: 2356.0000 - tn: 225073.0000 - tp: 414.0000 - precision: 0.1495 - recall: 0.9928 - val_loss: 0.0219 - val_fn: 8.0000 - val_fp: 357.0000 - val_tn: 56529.0000 - val_tp: 67.0000 - val_precision: 0.1580 - val_recall: 0.8933 - 5s/epoch - 42ms/step\n",
      "Epoch 30/30\n",
      "112/112 - 5s - loss: 5.6485e-07 - fn: 3.0000 - fp: 3342.0000 - tn: 224087.0000 - tp: 414.0000 - precision: 0.1102 - recall: 0.9928 - val_loss: 0.0273 - val_fn: 12.0000 - val_fp: 262.0000 - val_tn: 56624.0000 - val_tp: 63.0000 - val_precision: 0.1938 - val_recall: 0.8400 - 5s/epoch - 42ms/step\n"
     ]
    },
    {
     "data": {
      "text/plain": [
       "<keras.callbacks.History at 0x1fe5dec8f70>"
      ]
     },
     "execution_count": 7,
     "metadata": {},
     "output_type": "execute_result"
    }
   ],
   "source": [
    "metrics = [\n",
    "    keras.metrics.FalseNegatives(name=\"fn\"),\n",
    "    keras.metrics.FalsePositives(name=\"fp\"),\n",
    "    keras.metrics.TrueNegatives(name=\"tn\"),\n",
    "    keras.metrics.TruePositives(name=\"tp\"),\n",
    "    keras.metrics.Precision(name=\"precision\"),\n",
    "    keras.metrics.Recall(name=\"recall\"),\n",
    "]\n",
    "\n",
    "model.compile(\n",
    "    optimizer=keras.optimizers.Adam(1e-2), loss=\"binary_crossentropy\", metrics=metrics\n",
    ")\n",
    "\n",
    "callbacks = [keras.callbacks.ModelCheckpoint(\"fraud_model_at_epoch_{epoch}.h5\")]\n",
    "class_weight = {0: weight_for_0, 1: weight_for_1}\n",
    "\n",
    "model.fit(\n",
    "    train_features,\n",
    "    train_targets,\n",
    "    batch_size=2048,\n",
    "    epochs=30,\n",
    "    verbose=2,\n",
    "    callbacks=callbacks,\n",
    "    validation_data=(val_features, val_targets),\n",
    "    class_weight=class_weight,\n",
    ")"
   ]
  },
  {
   "cell_type": "code",
   "execution_count": null,
   "id": "6d04ddde-782a-4180-9064-d82d1a92d48c",
   "metadata": {},
   "outputs": [],
   "source": []
  }
 ],
 "metadata": {
  "kernelspec": {
   "display_name": "Python 3 (ipykernel)",
   "language": "python",
   "name": "python3"
  },
  "language_info": {
   "codemirror_mode": {
    "name": "ipython",
    "version": 3
   },
   "file_extension": ".py",
   "mimetype": "text/x-python",
   "name": "python",
   "nbconvert_exporter": "python",
   "pygments_lexer": "ipython3",
   "version": "3.9.7"
  }
 },
 "nbformat": 4,
 "nbformat_minor": 5
}
